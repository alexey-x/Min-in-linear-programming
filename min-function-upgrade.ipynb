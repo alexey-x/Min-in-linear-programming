{
 "cells": [
  {
   "cell_type": "markdown",
   "metadata": {},
   "source": [
    "# Min function in linear programming"
   ]
  },
  {
   "cell_type": "markdown",
   "metadata": {},
   "source": [
    "I thought I need $\\min(x, y, z)$ while solving one linear programming task.\n",
    "\n",
    "So, derived it and decided to make this note.\n",
    "\n",
    "Obviously the derivation may be shrinked to two variables, extented to more than 3 variables or inverted to $\\max$."
   ]
  },
  {
   "cell_type": "markdown",
   "metadata": {},
   "source": [
    "## Derivation"
   ]
  },
  {
   "cell_type": "markdown",
   "metadata": {},
   "source": [
    "Let us assume, $a$, is some linear programming variable such that $a = \\min(x, y, z)$, where $x, y, z$ also some variables.\n",
    "\n",
    "We may write the system of inequalities:\n",
    "\n",
    "$$\n",
    "\\begin{cases}\n",
    "a \\le x \\\\\n",
    "a \\le y \\\\\n",
    "a \\le z \\\\\n",
    "a \\ge b_x x \\\\\n",
    "a \\ge b_y y \\\\\n",
    "a \\ge b_z z \\\\\n",
    "b_x + b_y + b_z = 1\n",
    "\\end{cases}\n",
    "$$\n",
    "where $b_x, b_y, b_z$ are binary variables."
   ]
  },
  {
   "cell_type": "markdown",
   "metadata": {},
   "source": [
    "The product $t_x = b_x \\times x$ of the binary variable and the linear one can be expressed as the system\n",
    "$$\n",
    "\\begin{cases}\n",
    "t_x \\le x\\\\\n",
    "t_x \\ge x - M\\times(1 - b_x)\\\\\n",
    "t_x \\le M\\times b_x\n",
    "\\end{cases}\n",
    "$$\n",
    "where $M$ is some big number. Let us assume that $y \\le M$  and $z \\le M$. "
   ]
  },
  {
   "cell_type": "markdown",
   "metadata": {},
   "source": [
    "Therefore the final system is\n",
    "\n",
    "$$\n",
    "\\begin{cases}\n",
    "a \\le x \\\\\n",
    "a \\le y \\\\\n",
    "a \\le z \\\\\n",
    "a \\ge t_x\\\\\n",
    "a \\ge t_y\\\\\n",
    "a \\ge t_z\\\\\n",
    "b_x + b_y + b_z = 1\n",
    "\\\\\n",
    "t_x \\le x\\\\\n",
    "t_x \\ge x - M\\times(1 - b_x)\\\\\n",
    "t_x \\le M\\times b_x\n",
    "\\\\\n",
    "t_y \\le y\\\\\n",
    "t_y \\ge y - M\\times(1 - b_y)\\\\\n",
    "t_y \\le M\\times b_y\n",
    "\\\\\n",
    "t_z \\le z\\\\\n",
    "t_z \\ge z - M\\times(1 - b_z)\\\\\n",
    "t_z \\le M\\times b_z\n",
    "\\end{cases}\n",
    "$$"
   ]
  },
  {
   "cell_type": "markdown",
   "metadata": {},
   "source": [
    "## Conclusion\n",
    "\n",
    "In order to have linear variable $a$, such that $a = \\min(x, y, z)$ one needs to introduce 3 additional continuous variables $t_x, t_y, t_z$ and 3 binary varibales $b_x, b_y, b_x$\n",
    "\n",
    "I have not used it in practice but derivations seems right to me."
   ]
  },
  {
   "cell_type": "markdown",
   "metadata": {},
   "source": []
  }
 ],
 "metadata": {
  "kernelspec": {
   "display_name": "Python 3",
   "language": "python",
   "name": "python3"
  },
  "language_info": {
   "codemirror_mode": {
    "name": "ipython",
    "version": 3
   },
   "file_extension": ".py",
   "mimetype": "text/x-python",
   "name": "python",
   "nbconvert_exporter": "python",
   "pygments_lexer": "ipython3",
   "version": "3.7.1"
  }
 },
 "nbformat": 4,
 "nbformat_minor": 2
}
