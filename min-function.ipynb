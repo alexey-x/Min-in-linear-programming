{
 "cells": [
  {
   "cell_type": "markdown",
   "metadata": {},
   "source": [
    "# Min function in linear programming"
   ]
  },
  {
   "cell_type": "markdown",
   "metadata": {},
   "source": [
    "I thought I need $\\min(x, y, z)$ while solving one linear programming task.\n",
    "\n",
    "So, derived it and decided to make this note.\n",
    "\n",
    "Obviously the derivation may be shrinked to two variables, extented to more than 3 variables or inverted to $\\max$."
   ]
  },
  {
   "cell_type": "markdown",
   "metadata": {},
   "source": [
    "## Derivation"
   ]
  },
  {
   "cell_type": "markdown",
   "metadata": {},
   "source": [
    "Let us assume, $a$, some linear programming variable such that $a = \\min(x, y, z)$, where $x, y, z$ also some variables.\n",
    "\n",
    "It means $a$ is either $x$ or $y$ or $z$.\n",
    "\n",
    "$a = x$ when $x\\le y$ and $x\\le z$\n",
    "\n",
    "or\n",
    "\n",
    "$a = y$ when $y\\le z$ and $y\\le z$\n",
    "\n",
    "or\n",
    "\n",
    "$a = z$ when $z\\le x$ and $z\\le y$"
   ]
  },
  {
   "cell_type": "markdown",
   "metadata": {},
   "source": [
    "We can formulate these 3 cases as a system of 7 equations for linear programming: \n",
    "$$\n",
    "\\begin{cases}\n",
    "x - y \\le M (1-b_x) \\\\\n",
    "x - z \\le M (1-b_x) \\\\\n",
    "\\\\\n",
    "y - x \\le M (1-b_y) \\\\\n",
    "y - z \\le M (1-b_y) \\\\\n",
    "\\\\\n",
    "z - x \\le M (1-b_z) \\\\\n",
    "z - y \\le M (1-b_z) \\\\\n",
    "\\\\\n",
    "b_x + b_y + b_z = 1\n",
    "\\end{cases}\n",
    "$$\n",
    "where $M$ some constant s.t. $x \\le M, y \\le M, z \\le M$ and $b_x, b_y, b_z$ are binary variables."
   ]
  },
  {
   "cell_type": "markdown",
   "metadata": {},
   "source": [
    "Therefore\n",
    "\n",
    "$a = x\\times b_x + y\\times b_y + z\\times b_z$\n",
    "\n",
    "or using $b_z = 1 - b_x - b_y$\n",
    "\n",
    "$a = (x - z)\\times b_x + (y - z)\\times b_y + z = t_x + t_y + z$, where\n",
    "$$\n",
    "\\begin{cases}\n",
    "t_x = (x - z)\\times b_x\\\\\n",
    "t_x = (y - z)\\times b_y\n",
    "\\end{cases}\n",
    "$$"
   ]
  },
  {
   "cell_type": "markdown",
   "metadata": {},
   "source": [
    "The first equation $t_x = (x - z)\\times b_x$ is the product of linear variable and the binary one. It can be converted to the system\n",
    "$$\n",
    "\\begin{cases}\n",
    "t_x \\le x - z\\\\\n",
    "t_x \\le x - z + M\\times(1 - b_x)\\\\\n",
    "t_x \\le M\\times b_x\n",
    "\\end{cases}\n",
    "$$\n",
    "The same transformation can be done with $t_x = (y - z)\\times b_y$ equation."
   ]
  },
  {
   "cell_type": "markdown",
   "metadata": {},
   "source": [
    "Therefore, the equation $a = \\min(x, y, z)$ in linear programming can be formalated as a system of equations (inequalities):\n",
    "$$\n",
    "\\begin{cases}\n",
    "a = t_x + t_y + z\\\\\n",
    "\\\\\n",
    "x - y \\le M (1-b_x) \\\\\n",
    "x - z \\le M (1-b_x) \\\\\n",
    "\\\\\n",
    "y - x \\le M (1-b_y) \\\\\n",
    "y - z \\le M (1-b_y) \\\\\n",
    "\\\\\n",
    "z - x \\le M (1-b_z) \\\\\n",
    "z - y \\le M (1-b_z) \\\\\n",
    "\\\\\n",
    "b_x + b_y + b_z = 1\\\\\n",
    "\\\\\n",
    "t_x \\le x - z\\\\\n",
    "t_x \\le x - z + M\\times(1 - b_x)\\\\\n",
    "t_x \\le M\\times b_x\\\\\n",
    "\\\\\n",
    "t_y \\le y - z\\\\\n",
    "t_y \\le y - z + M\\times(1 - b_y)\\\\\n",
    "t_y \\le M\\times b_y\\\\\n",
    "\\end{cases}\n",
    "$$"
   ]
  },
  {
   "cell_type": "markdown",
   "metadata": {},
   "source": [
    "## Conclusion\n",
    "\n",
    "I have not used it in practice but derivations seems right to me."
   ]
  }
 ],
 "metadata": {
  "kernelspec": {
   "display_name": "Python 3",
   "language": "python",
   "name": "python3"
  },
  "language_info": {
   "codemirror_mode": {
    "name": "ipython",
    "version": 3
   },
   "file_extension": ".py",
   "mimetype": "text/x-python",
   "name": "python",
   "nbconvert_exporter": "python",
   "pygments_lexer": "ipython3",
   "version": "3.7.1"
  }
 },
 "nbformat": 4,
 "nbformat_minor": 2
}
